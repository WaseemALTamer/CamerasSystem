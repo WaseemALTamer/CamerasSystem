{
 "cells": [
  {
   "cell_type": "code",
   "execution_count": 1,
   "metadata": {},
   "outputs": [],
   "source": [
    "from Grapers.ImageGraper import AccessImages\n",
    "import threading\n",
    "\n",
    "x = AccessImages(input_device_index=0)\n",
    "threading.Thread(target=x.StartGraping).start()\n",
    "\n"
   ]
  },
  {
   "cell_type": "code",
   "execution_count": 5,
   "metadata": {},
   "outputs": [
    {
     "data": {
      "text/plain": [
       "array([[[ 44,  53,  51],\n",
       "        [ 46,  55,  53],\n",
       "        [ 48,  57,  54],\n",
       "        ...,\n",
       "        [230, 234, 233],\n",
       "        [230, 234, 233],\n",
       "        [230, 234, 233]],\n",
       "\n",
       "       [[ 45,  52,  51],\n",
       "        [ 47,  55,  53],\n",
       "        [ 49,  57,  54],\n",
       "        ...,\n",
       "        [230, 234, 233],\n",
       "        [230, 234, 233],\n",
       "        [230, 234, 233]],\n",
       "\n",
       "       [[ 48,  53,  52],\n",
       "        [ 49,  54,  53],\n",
       "        [ 51,  57,  54],\n",
       "        ...,\n",
       "        [230, 234, 233],\n",
       "        [230, 234, 233],\n",
       "        [230, 234, 233]],\n",
       "\n",
       "       ...,\n",
       "\n",
       "       [[ 46,  64,  58],\n",
       "        [ 43,  60,  54],\n",
       "        [ 38,  54,  51],\n",
       "        ...,\n",
       "        [ 70,  74,  85],\n",
       "        [ 71,  75,  86],\n",
       "        [ 72,  76,  87]],\n",
       "\n",
       "       [[ 43,  61,  52],\n",
       "        [ 39,  56,  49],\n",
       "        [ 35,  50,  46],\n",
       "        ...,\n",
       "        [ 68,  73,  82],\n",
       "        [ 68,  73,  82],\n",
       "        [ 68,  73,  82]],\n",
       "\n",
       "       [[ 42,  59,  50],\n",
       "        [ 37,  53,  45],\n",
       "        [ 32,  48,  42],\n",
       "        ...,\n",
       "        [ 66,  71,  80],\n",
       "        [ 65,  70,  79],\n",
       "        [ 65,  70,  79]]], dtype=uint8)"
      ]
     },
     "execution_count": 5,
     "metadata": {},
     "output_type": "execute_result"
    }
   ],
   "source": [
    "x.DataOutput"
   ]
  },
  {
   "cell_type": "code",
   "execution_count": 2,
   "metadata": {},
   "outputs": [],
   "source": [
    "from DevicesWorkers import Grapers\n",
    "import time\n",
    "\n",
    "\n",
    "\n",
    "DevicesGraper = Grapers.AvailableDevices\n",
    "\n",
    "DevicesGraper.GrapCaptureDeviecesHashffmpeg()\n",
    "\n",
    "\n",
    "x = Grapers.AccessImages(0)\n",
    "x.GrapImageContinuouslyOnThread()\n"
   ]
  },
  {
   "cell_type": "code",
   "execution_count": null,
   "metadata": {},
   "outputs": [],
   "source": []
  },
  {
   "cell_type": "code",
   "execution_count": 5,
   "metadata": {},
   "outputs": [
    {
     "name": "stdout",
     "output_type": "stream",
     "text": [
      "[3, 2, 3]\n",
      "[1, 2, 3]\n"
     ]
    }
   ],
   "source": [
    "import copy\n",
    "\n",
    "x = [1,2,3]\n",
    "y = copy.deepcopy(x)\n",
    "\n",
    "\n",
    "\n",
    "y[0] = 3\n",
    "\n",
    "print(y)\n",
    "print(x)"
   ]
  },
  {
   "cell_type": "code",
   "execution_count": 6,
   "metadata": {},
   "outputs": [
    {
     "name": "stdout",
     "output_type": "stream",
     "text": [
      "[3, 2, 3]\n"
     ]
    }
   ],
   "source": [
    "print(y)"
   ]
  }
 ],
 "metadata": {
  "kernelspec": {
   "display_name": "Python 3",
   "language": "python",
   "name": "python3"
  },
  "language_info": {
   "codemirror_mode": {
    "name": "ipython",
    "version": 3
   },
   "file_extension": ".py",
   "mimetype": "text/x-python",
   "name": "python",
   "nbconvert_exporter": "python",
   "pygments_lexer": "ipython3",
   "version": "3.12.4"
  }
 },
 "nbformat": 4,
 "nbformat_minor": 2
}
